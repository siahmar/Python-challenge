{
 "cells": [
  {
   "cell_type": "code",
   "execution_count": 2,
   "metadata": {},
   "outputs": [],
   "source": [
    "import os\n",
    "import csv\n",
    "#Relative Path - error finding the csv file using this path so had to use full path\n",
    "#csvpath = os.path.join(r'Python-challenge/PyPoll/Resources/election_data.csv')\n",
    "\n",
    "#Full path\n",
    "csvpath = os.path.join(r'/Users/siawashahmar/Desktop/Data Analytics Bootcamp/Python-challenge/PyPoll/Resources/election_data.csv')"
   ]
  },
  {
   "cell_type": "code",
   "execution_count": 5,
   "metadata": {},
   "outputs": [
    {
     "name": "stdout",
     "output_type": "stream",
     "text": [
      "Election Results:\n",
      "___________________________________________\n",
      "Total Votes:    369711\n",
      "___________________________________________\n",
      "Charles Casper Stockham : 23.048543%  (85213)\n",
      "Diana DeGette : 73.812248%  (272892)\n",
      "Raymon Anthony Doane : 3.139209%  (11606)\n",
      "___________________________________________\n",
      "Winner: Diana DeGette\n"
     ]
    }
   ],
   "source": [
    "with open(csvpath) as csv_file:\n",
    "    csv_reader = csv.reader(csv_file, delimiter=\",\")\n",
    "\n",
    "    csv_header = next(csv_reader)\n",
    "\n",
    "#Read data from csv and store as list\n",
    "    raw_data = list(csv_reader)\n",
    "    tot_votes = len(raw_data)\n",
    "\n",
    "#Create empty lists to store entries from list comprehension   \n",
    "    candidate_list = []\n",
    "    tally = []\n",
    "\n",
    "    for i in range (0, tot_votes):\n",
    "        candidate_name = raw_data[i][2]\n",
    "        tally.append(candidate_name)   \n",
    "        if candidate_name not in candidate_list:\n",
    "            candidate_list.append(candidate_name)\n",
    "    tot_numb_candidates = len(candidate_list)\n",
    "  \n",
    "\n",
    "    vote = []\n",
    "    percent = []\n",
    "#Use list comprehension to determine votes for each candidate and calculate % of votes\n",
    "    for k in range (0, tot_numb_candidates):\n",
    "        candidate_name = candidate_list[k]\n",
    "        vote.append(tally.count(candidate_name))\n",
    "        vote_percent = vote[k]/tot_votes\n",
    "        percent.append(vote_percent)\n",
    "\n",
    "#find the candidate with most/max votes\n",
    "winner = vote.index(max(vote))\n",
    "\n",
    "#Print results\n",
    "print(\"Election Results:\")\n",
    "print(\"___________________________________________\")\n",
    "print(f\"Total Votes:    {tot_votes}\")\n",
    "print(\"___________________________________________\")\n",
    "print(f\"{candidate_list[0]} : {percent[0]:%}  ({vote[0]})\")\n",
    "print(f\"{candidate_list[1]} : {percent[1]:%}  ({vote[1]})\")\n",
    "print(f\"{candidate_list[2]} : {percent[2]:%}  ({vote[2]})\")\n",
    "print(\"___________________________________________\")\n",
    "print(f\"Winner: {candidate_list[winner]}\")\n",
    "     \n"
   ]
  },
  {
   "cell_type": "code",
   "execution_count": null,
   "metadata": {},
   "outputs": [],
   "source": [
    "#Prepare text file for export\n",
    "\n",
    "results_textfile = (\n",
    "    \"Election Results:\\n\"\n",
    "    \"________________________________________\\n\"\n",
    "    f\"Total Votes:  {tot_votes}\\n\"\n",
    "    \"________________________________________\\n\"\n",
    "    f\"{candidate_list[0]} : {percent[0]:%}  ({vote[0]})\\n\"\n",
    "    f\"{candidate_list[1]} : {percent[1]:%}  ({vote[1]})\\n\"\n",
    "    f\"{candidate_list[2]} : {percent[2]:%}  ({vote[2]})\\n\"\n",
    "    \"___________________________________________\\n\"\n",
    "    f\"Winner: {candidate_list[winner]}\\n\"\n",
    ")\n",
    "\n",
    "with open ('Final_output.txt', 'w') as file:\n",
    "    file.write(results_textfile)"
   ]
  }
 ],
 "metadata": {
  "kernelspec": {
   "display_name": "Python 3",
   "language": "python",
   "name": "python3"
  },
  "language_info": {
   "codemirror_mode": {
    "name": "ipython",
    "version": 3
   },
   "file_extension": ".py",
   "mimetype": "text/x-python",
   "name": "python",
   "nbconvert_exporter": "python",
   "pygments_lexer": "ipython3",
   "version": "3.12.4"
  }
 },
 "nbformat": 4,
 "nbformat_minor": 2
}
