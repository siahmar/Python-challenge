{
 "cells": [
  {
   "cell_type": "code",
   "execution_count": null,
   "metadata": {},
   "outputs": [],
   "source": [
    "import os\n",
    "import csv\n",
    "\n",
    "#Relative Path\n",
    "#csvpath = os.path.join(r'Python-challenge/PyBank/Resources/budget_data.csv)\n",
    "\n",
    "#The relative path for the CSV file did not work so I had to copy the full path to get it to work on my sytem\n",
    "csvpath = os.path.join(r'/Users/siawashahmar/Desktop/Data Analytics Bootcamp/Python-challenge/PyBank/Resources/budget_data.csv')"
   ]
  },
  {
   "cell_type": "code",
   "execution_count": null,
   "metadata": {},
   "outputs": [],
   "source": [
    "with open(csvpath) as csv_file:\n",
    "    csv_reader = csv.reader(csv_file, delimiter=\",\")\n",
    "    \n",
    "    csv_header = next(csv_reader)\n",
    "    \n",
    "#Declare empty lists \n",
    "    date = []\n",
    "    profit_losses = []\n",
    "    changes = []\n",
    "\n",
    "#Use list comprehension to store date column in date list, and profit/losses in profit_losses list\n",
    "    for row in csv_reader:\n",
    "        date.append(row[0])\n",
    "        profit_losses.append(float(row[1]))\n",
    "\n",
    "# Counts the total legnth of date list\n",
    "tot_months = len(date)\n",
    "\n",
    "# Net total for profit/losses column\n",
    "net_profit = sum(profit_losses)\n",
    "\n",
    "# Using declared lists: Calculate the changes in profit/losses and store them in change list\n",
    "for i in range(1, tot_months):\n",
    "    difference = profit_losses[i] - profit_losses[i-1]\n",
    "    changes.append(difference)\n",
    "\n",
    "avg_change = sum(changes) / tot_months\n",
    "\n",
    "# Find max increase and max decrease values and correspondign dates\n",
    "max_increase = max(changes)\n",
    "max_increase_date = date[changes.index(max_increase) + 1]\n",
    "max_decrease = min(changes)\n",
    "max_decrease_date = date[changes.index(max_decrease) + 1]\n",
    "\n"
   ]
  },
  {
   "cell_type": "code",
   "execution_count": null,
   "metadata": {},
   "outputs": [],
   "source": [
    "changes"
   ]
  },
  {
   "cell_type": "code",
   "execution_count": null,
   "metadata": {},
   "outputs": [],
   "source": [
    "# Print the analysis results\n",
    "print(\"Financial Analysis\")\n",
    "print(\"-----------------------------\")\n",
    "print(f\"Total Months: {tot_months}\")\n",
    "print(f\"Total Profit/Losses: ${net_profit:.0f}\")\n",
    "print(f\"Average Change: ${avg_change:.2f}\")\n",
    "print(f\"Greatest Increase in Profits: {max_increase_date} (${max_increase:.0f})\")\n",
    "print(f\"Greatest Decrease in Profits: {max_decrease_date} (${max_decrease:.0f})\")"
   ]
  },
  {
   "cell_type": "code",
   "execution_count": null,
   "metadata": {},
   "outputs": [],
   "source": [
    "#Prepare text file for export\n",
    "\n",
    "results_textfile = (\n",
    "    \"Financial Analysis\\n\"\n",
    "    \"-----------------------------\\n\"\n",
    "    f\"Total Months: {tot_months}\\n\"\n",
    "    f\"Total Profit/Losses: ${net_profit:.0f}\\n\"\n",
    "    f\"Average Change: ${avg_change:.2f}\\n\"\n",
    "    f\"Greatest Increase in Profits: {max_increase_date} (${max_increase:.0f})\\n\"\n",
    "    f\"Greatest Decrease in Profits: {max_decrease_date} (${max_decrease:.0f})\\n\"\n",
    ")\n",
    "\n",
    "with open('Final_output.txt', 'w') as file: \n",
    "    file.write(results_textfile)"
   ]
  }
 ],
 "metadata": {
  "kernelspec": {
   "display_name": "Python 3",
   "language": "python",
   "name": "python3"
  },
  "language_info": {
   "codemirror_mode": {
    "name": "ipython",
    "version": 3
   },
   "file_extension": ".py",
   "mimetype": "text/x-python",
   "name": "python",
   "nbconvert_exporter": "python",
   "pygments_lexer": "ipython3",
   "version": "3.12.4"
  }
 },
 "nbformat": 4,
 "nbformat_minor": 2
}
